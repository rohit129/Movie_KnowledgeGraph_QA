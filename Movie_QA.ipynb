{
 "cells": [
  {
   "cell_type": "markdown",
   "metadata": {},
   "source": [
    "### IMPORTING LIBRARIES"
   ]
  },
  {
   "cell_type": "code",
   "execution_count": 146,
   "metadata": {},
   "outputs": [],
   "source": [
    "import nltk\n",
    "import re\n",
    "import string\n",
    "import networkx\n",
    "from nltk.corpus import stopwords"
   ]
  },
  {
   "cell_type": "markdown",
   "metadata": {},
   "source": [
    "### ENTER QUERY IN NEW2.TXT \n",
    "### OPENING FILES AND CREATING THEIR OBJECTS"
   ]
  },
  {
   "cell_type": "code",
   "execution_count": 147,
   "metadata": {},
   "outputs": [],
   "source": [
    "f1=open('wiki_entities_kb.txt',encoding='utf8')\n",
    "f=open('query.txt',encoding='utf8')"
   ]
  },
  {
   "cell_type": "markdown",
   "metadata": {},
   "source": [
    "### ACCESSING THE FILE CONTENTS THROUGH THEIR OBJECTS"
   ]
  },
  {
   "cell_type": "code",
   "execution_count": 148,
   "metadata": {},
   "outputs": [],
   "source": [
    "str1=f1.readlines()\n",
    "str2=f.readlines()"
   ]
  },
  {
   "cell_type": "code",
   "execution_count": 149,
   "metadata": {},
   "outputs": [
    {
     "data": {
      "text/plain": [
       "['which movies can be described by teenagers?\\n',\n",
       " 'what movies did Temuera Morrison act in   ?\\n',\n",
       " 'Edna May Oliver appears in which movies?\\n']"
      ]
     },
     "execution_count": 149,
     "metadata": {},
     "output_type": "execute_result"
    }
   ],
   "source": [
    "str2"
   ]
  },
  {
   "cell_type": "markdown",
   "metadata": {},
   "source": [
    "### CREATING A DIRECTED GRAPH OBJECT"
   ]
  },
  {
   "cell_type": "code",
   "execution_count": 150,
   "metadata": {},
   "outputs": [],
   "source": [
    "g=networkx.DiGraph()"
   ]
  },
  {
   "cell_type": "markdown",
   "metadata": {},
   "source": [
    "### CREATING A GRAPH (IT'S NODES AND EDGES WITH ATTRIBUTE AS WEIGHT ON THEM)"
   ]
  },
  {
   "cell_type": "code",
   "execution_count": 70,
   "metadata": {},
   "outputs": [],
   "source": [
    "i=0\n",
    "#LOOP FOR EACH LINE IN ENTITY EXTRACTION PROCESS\n",
    "while(i<len(str1)):\n",
    "    if len(str1[i].split('directed_by'))>1:#SPLITTING LINES BASED ON 'DIRECTED_BY' ATTRIBUTE\n",
    "        g.add_node(re.sub(r'^[0-9]','',str1[i].rsplit('directed_by')[0]).strip())# CREATING NODE FOR MOVIE\n",
    "        m=str1[i].rsplit('directed_by')[1].replace('\\n','').strip()\n",
    "        #CREATING NODES AND EDGES FOR PEOPLE CONNECTED TO THE ABOVE MOVIE\n",
    "        for i1 in list(m.split(\",\")):\n",
    "            g.add_node(i1.strip())#CREATING EACH NODE FOR EVERY SINGLE PERSON\n",
    "            g.add_edge(i1.strip(),re.sub(r'^[0-9]','',str1[i].rsplit('directed_by')[0]).strip())#CREATING EDGES FROM DIFFERENT PEOPLE TO MOVIE\n",
    "            if g[i1.strip()][re.sub(r'^[0-9]','',str1[i].rsplit('directed_by')[0]).strip()]=={}:#CHECKING IF WEIGHT IS EMPTY SET OR NOT\n",
    "                g[i1.strip()][re.sub(r'^[0-9]','',str1[i].rsplit('directed_by')[0]).strip()]['weight']=['directed_by']#SETTING ATTRIBUTE AS WEIGHT\n",
    "            if g[i1.strip()][re.sub(r'^[0-9]','',str1[i].rsplit('directed_by')[0]).strip()]!={}:#CHECKING IF WEIGHT IS EMPTY SET OR NOT\n",
    "                g[i1.strip()][re.sub(r'^[0-9]','',str1[i].rsplit('directed_by')[0]).strip()]['weight'].append('directed_by')#SETTING ATTRIBUTE AS WEIGHT\n",
    "            g.add_edge(re.sub(r'^[0-9]','',str1[i].rsplit('directed_by')[0]).strip(),i1.strip())#CREATING EDGES FROM MOVIE TO DIFFERENT PEOPLE  \n",
    "            if g[re.sub(r'^[0-9]','',str1[i].rsplit('directed_by')[0]).strip()][i1.strip()]=={}:#CHECKING IF WEIGHT IS EMPTY SET OR NOT\n",
    "                g[re.sub(r'^[0-9]','',str1[i].rsplit('directed_by')[0]).strip()][i1.strip()]['weight']=['directed_by']#SETTING ATTRIBUTE AS WEIGHT\n",
    "            if g[re.sub(r'^[0-9]','',str1[i].rsplit('directed_by')[0]).strip()][i1.strip()]!={}:#CHECKING IF WEIGHT IS EMPTY SET OR NOT\n",
    "                g[re.sub(r'^[0-9]','',str1[i].rsplit('directed_by')[0]).strip()][i1.strip()]['weight'].append('directed_by')#SETTING ATTRIBUTE AS WEIGHT\n",
    "    if len(str1[i].split('written_by'))>1:#SPLITTING LINES BASED ON 'WRITTEN_BY' ATTRIBUTE\n",
    "        g.add_node(re.sub(r'^[0-9]','',str1[i].rsplit('written_by')[0]).strip())# CREATING NODE FOR MOVIE\n",
    "        m=str1[i].rsplit('written_by')[1].replace('\\n','')\n",
    "        #CREATING NODES AND EDGES FOR PEOPLE CONNECTED TO THE ABOVE MOVIE\n",
    "        for i1 in list(m.split(\",\")):\n",
    "            g.add_node(i1.strip())#CREATING EACH NODE FOR EVERY SINGLE PERSON\n",
    "            g.add_edge(i1.strip(),re.sub(r'^[0-9]','',str1[i].rsplit('written_by')[0]).strip())#CREATING EDGES FROM DIFFERENT PEOPLE TO MOVIE\n",
    "            if g[i1.strip()][re.sub(r'^[0-9]','',str1[i].rsplit('written_by')[0]).strip()]=={}:#CHECKING IF WEIGHT IS EMPTY SET OR NOT\n",
    "                g[i1.strip()][re.sub(r'^[0-9]','',str1[i].rsplit('written_by')[0]).strip()]['weight']=['written_by']#SETTING ATTRIBUTE AS WEIGHT\n",
    "            if g[i1.strip()][re.sub(r'^[0-9]','',str1[i].rsplit('written_by')[0]).strip()]!={}:#CHECKING IF WEIGHT IS EMPTY SET OR NOT\n",
    "                g[i1.strip()][re.sub(r'^[0-9]','',str1[i].rsplit('written_by')[0]).strip()]['weight'].append('written_by')#SETTING ATTRIBUTE AS WEIGHT\n",
    "            g.add_edge(re.sub(r'^[0-9]','',str1[i].rsplit('written_by')[0]).strip(),i1.strip())#CREATING EDGES FROM MOVIE TO DIFFERENT PEOPLE\n",
    "            if g[re.sub(r'^[0-9]','',str1[i].rsplit('written_by')[0]).strip()][i1.strip()]=={}:#CHECKING IF WEIGHT IS EMPTY SET OR NOT\n",
    "                g[re.sub(r'^[0-9]','',str1[i].rsplit('written_by')[0]).strip()][i1.strip()]['weight']=['written_by']#SETTING ATTRIBUTE AS WEIGHT\n",
    "            if g[re.sub(r'^[0-9]','',str1[i].rsplit('written_by')[0]).strip()][i1.strip()]!={}:#CHECKING IF WEIGHT IS EMPTY SET OR NOT\n",
    "                g[re.sub(r'^[0-9]','',str1[i].rsplit('written_by')[0]).strip()][i1.strip()]['weight'].append('written_by')#SETTING ATTRIBUTE AS WEIGHT\n",
    "    if len(str1[i].split('has_tags'))>1:#SPLITTING LINES BASED ON 'HAS_TAGS' ATTRIBUTE\n",
    "        g.add_node(re.sub(r'^[0-9]','',str1[i].rsplit('has_tags')[0]).strip())#CREATING NODE FOR MOVIE\n",
    "        m=str1[i].rsplit('has_tags')[1].replace('\\n','')#GETTING TAGS\n",
    "        for i1 in list(m.split(\",\")):\n",
    "            g.add_node(i1.strip())#CREATING NODE FOR EACH TAG\n",
    "            g.add_edge(i1.strip(),re.sub(r'^[0-9]','',str1[i].rsplit('has_tags')[0]).strip())#CREATING EDGES FROM EACH TAG TO MOVIE\n",
    "            g[i1.strip()][re.sub(r'^[0-9]','',str1[i].rsplit('has_tags')[0]).strip()]['weight']=['has_tags']#SETTING ATTRIBUTE AS WEIGHT\n",
    "            g.add_edge(re.sub(r'^[0-9]','',str1[i].rsplit('has_tags')[0]).strip(),i1.strip())#CREATING EDGES FROM MOVIE TO EVERY TAG\n",
    "            g[re.sub(r'^[0-9]','',str1[i].rsplit('has_tags')[0]).strip()][i1.strip()]['weight']=['has_tags']#SETTING ATTRIBUTE AS WEIGHT\n",
    "    if len(str1[i].split('starred_actors'))>1:#SPLITTING LINES BASED ON 'STARRED_ACTORS' ATTRIBUTE\n",
    "        g.add_node(re.sub(r'^[0-9]','',str1[i].rsplit('starred_actors')[0]).strip())#CREATING NODE FOR MOVIE\n",
    "        m=str1[i].rsplit('starred_actors')[1].replace('\\n','')\n",
    "        for i1 in list(m.split(\",\")):\n",
    "            g.add_node(i1.strip())#CREATING NODE FOR EACH ACTOR\n",
    "            g.add_edge(i1.strip(),re.sub(r'^[0-9]','',str1[i].rsplit('starred_actors')[0]).strip())#CREATING EDGES FORM EACH ACTOR TO MOVIE\n",
    "            if g[i1.strip()][re.sub(r'^[0-9]+','',str1[i].rsplit('starred_actors')[0]).strip()]=={}:#CHECKING WHETHER THE WEIGHT IS EMPTY SET OR NOT\n",
    "                g[i1.strip()][re.sub(r'^[0-9]','',str1[i].rsplit('starred_actors')[0]).strip()]['weight']=['starred_actors']#SETTING ATTRIBUTE AS WEIGHT\n",
    "            if g[i1.strip()][re.sub(r'^[0-9]','',str1[i].rsplit('starred_actors')[0]).strip()]!={}:#CHECKING WHETHER THE WEIGHT IS EMPTY SET OR NOT\n",
    "                g[i1.strip()][re.sub(r'^[0-9]','',str1[i].rsplit('starred_actors')[0]).strip()]['weight'].append('starred_actors')#SETTING ATTRIBUTE AS WEIGHT\n",
    "            g.add_edge(re.sub(r'^[0-9]','',str1[i].rsplit('starred_actors')[0]).strip(),i1.strip())\n",
    "            if g[re.sub(r'^[0-9]','',str1[i].rsplit('starred_actors')[0]).strip()][i1.strip()]=={}:#CHECKING WHETHER THE WEIGHT IS EMPTY SET OR NOT\n",
    "                g[re.sub(r'^[0-9]','',str1[i].rsplit('starred_actors')[0]).strip()][i1.strip()]['weight']=['starred_actors']#SETTING ATTRIBUTE AS WEIGHT\n",
    "            if g[re.sub(r'^[0-9]','',str1[i].rsplit('starred_actors')[0]).strip()][i1.strip()]!={}:#CHECKING WHETHER THE WEIGHT IS EMPTY SET OR NOT\n",
    "                g[re.sub(r'^[0-9]','',str1[i].rsplit('starred_actors')[0]).strip()][i1.strip()]['weight'].append('starred_actors')#SETTING ATTRIBUTE AS WEIGHT\n",
    "    if len(str1[i].split('has_plot'))>1:#SPLITTING LINES BASED ON 'HAS_PLOT' ATTRIBUTE\n",
    "        g.add_node(re.sub(r'^[0-9]','',str1[i].rsplit('has_plot')[0]).strip())#CREATING NODE FOR MOVIE\n",
    "        g.add_node(str1[i].rsplit('has_plot')[1].replace('\\n','').strip())# CREATING NODE FOR PLOT\n",
    "        g.add_edge(str1[i].rsplit('has_plot')[1].replace('\\n','').strip(),re.sub(r'^[0-9]','',str1[i].rsplit('has_plot')[0]).strip())# CREATING EDGES FROM PLOT TO MOVIE\n",
    "        g.add_edge(re.sub(r'^[0-9]','',str1[i].rsplit('has_plot')[0]).strip(),str1[i].rsplit('has_plot')[1].replace('\\n','').strip())#CREATING EDGE FROM MOVIE TO PLOT\n",
    "        g[str1[i].rsplit('has_plot')[1].replace('\\n','').strip()][re.sub(r'^[0-9]','',str1[i].rsplit('has_plot')[0]).strip()]['weight']=['has_plot']#SETTING ATTRIBUTE AS WEIGHT\n",
    "        g[re.sub(r'^[0-9]','',str1[i].rsplit('has_plot')[0]).strip()][str1[i].rsplit('has_plot')[1].replace('\\n','').strip()]['weight']=['has_plot']#SETTING ATTRIBUTE AS WEIGHT\n",
    "    if len(str1[i].split('release_year'))>1:#SPLITTING LINES\n",
    "        g.add_node(re.sub(r'^[0-9]','',str1[i].rsplit('release_year')[0]).strip())#CREATING NODE FOR MOVIE\n",
    "        g.add_node(str1[i].rsplit('release_year')[1].replace('\\n','').strip())\n",
    "        g.add_edge(str1[i].rsplit('release_year')[1].replace('\\n','').strip(),re.sub(r'^[0-9]','',str1[i].rsplit('release_year')[0]).strip())# CREATING EDGES FROM YEAR TO MOVIE\n",
    "        g.add_edge(re.sub(r'^[0-9]','',str1[i].rsplit('release_year')[0]).strip(),str1[i].rsplit('release_year')[1].replace('\\n','').strip())#CREATING EDGE FROM MOVIE TO YEAR\n",
    "        g[str1[i].rsplit('release_year')[1].replace('\\n','').strip()][re.sub(r'^[0-9]','',str1[i].rsplit('release_year')[0]).strip()]['weight']=['release_year']#SETTING ATTRIBUTE AS WEIGHT\n",
    "        g[re.sub(r'^[0-9]','',str1[i].rsplit('release_year')[0]).strip()][str1[i].rsplit('release_year')[1].replace('\\n','').strip()]['weight']=['release_year']#SETTING ATTRIBUTE AS WEIGHT\n",
    "    if len(str1[i].split('has_genre'))>1:#SPLITTING LINES\n",
    "        g.add_node(re.sub(r'^[0-9]','',str1[i].rsplit('has_genre')[0]).strip())#CREATING NODE FOR MOVIE\n",
    "        m=str1[i].rsplit('has_genre')[1].replace('\\n','')\n",
    "        for i1 in list(m.split(\",\")):\n",
    "            g.add_node(i1.strip())#CREATING NODES FOR EACH GENRE\n",
    "            g.add_edge(i1.strip(),re.sub(r'^[0-9]','',str1[i].rsplit('has_genre')[0]).strip())#CREATING EDGES FROM EACH GENRE TO MOVIE\n",
    "            g[i1.strip()][re.sub(r'^[0-9]','',str1[i].rsplit('has_genre')[0]).strip()]['weight']=['has_genre']#SETTING ATTRIBUTE AS WEIGHT\n",
    "            g.add_edge(re.sub(r'^[0-9]','',str1[i].rsplit('has_genre')[0]).strip(),i1.strip())#CREATING EDGES FROM MOVIE TO EACH GENRE\n",
    "            g[re.sub(r'^[0-9]','',str1[i].rsplit('has_genre')[0]).strip()][i1.strip()]['weight']=['has_genre']#SETTING ATTRIBUTE AS WEIGHT\n",
    "    if len(str1[i].split('has_imdb_votes'))>1:#SPLITTING LINES BASED ON 'IMDB_VOTES'\n",
    "        g.add_node(re.sub(r'^[0-9]','',str1[i].rsplit('has_imdb_votes')[0]).strip())#CREATING NODE FOR MOVIE\n",
    "        g.add_node(str1[i].rsplit('has_imdb_votes')[1].replace('\\n','').strip())#CREATING NODE FOR IMDB_VOTES\n",
    "        g.add_edge(str1[i].rsplit('has_imdb_votes')[1].replace('\\n','').strip(),re.sub(r'^[0-9]','',str1[i].rsplit('has_imdb_votes')[0]).strip())\n",
    "        g.add_edge(re.sub(r'^[0-9]','',str1[i].rsplit('has_imdb_votes')[0]).strip(),str1[i].rsplit('has_imdb_votes')[1].replace('\\n','').strip())\n",
    "        g[str1[i].rsplit('has_imdb_votes')[1].replace('\\n','').strip()][re.sub(r'^[0-9]','',str1[i].rsplit('has_imdb_votes')[0]).strip()]['weight']=['has_imdb_votes']#SETTING ATTRIBUTE AS WEIGHT\n",
    "        g[re.sub(r'^[0-9]','',str1[i].rsplit('has_imdb_votes')[0]).strip()][str1[i].rsplit('has_imdb_votes')[1].replace('\\n','').strip()]['weight']=['has_imdb_votes']#SETTING ATTRIBUTE AS WEIGHT\n",
    "    if len(str1[i].split('has_imdb_rating'))>1:#SPLITTING LINES BASED ON 'IMDB_RATING' ATTRIBUTE\n",
    "        g.add_node(re.sub(r'^[0-9]','',str1[i].rsplit('has_imdb_rating')[0]).strip())#CREATING NODE FOR MOVIE\n",
    "        g.add_node(str1[i].rsplit('has_imdb_rating')[1].replace('\\n','').strip())#CREATING NODE FOR IMDB_RATING\n",
    "        g.add_edge(str1[i].rsplit('has_imdb_rating')[1].replace('\\n','').strip(),re.sub(r'^[0-9]','',str1[i].rsplit('has_imdb_rating')[0]).strip())#CREATING EDGE FROM RATING TO MOVIE\n",
    "        g.add_edge(re.sub(r'^[0-9]','',str1[i].rsplit('has_imdb_rating')[0]).strip(),str1[i].rsplit('has_imdb_rating')[1].replace('\\n','').strip())#CREATING EDGE FROM MOVIE TO RATING\n",
    "        g[str1[i].rsplit('has_imdb_rating')[1].replace('\\n','').strip()][re.sub(r'^[0-9]','',str1[i].rsplit('has_imdb_rating')[0]).strip()]['weight']=['has_imdb_rating']#SETTING ATTRIBUTE AS WEIGHT\n",
    "        g[re.sub(r'^[0-9]','',str1[i].rsplit('has_imdb_rating')[0]).strip()][str1[i].rsplit('has_imdb_rating')[1].replace('\\n','').strip()]['weight']=['has_imdb_rating']#SETTING ATTRIBUTE AS WEIGHT\n",
    "    i=i+1"
   ]
  },
  {
   "cell_type": "markdown",
   "metadata": {},
   "source": [
    "### SAVING AND RESTORING GRAPH IN PICKLE FORMAT"
   ]
  },
  {
   "cell_type": "code",
   "execution_count": 71,
   "metadata": {},
   "outputs": [],
   "source": [
    "networkx.write_gpickle(g,'t2.gpickle')"
   ]
  },
  {
   "cell_type": "code",
   "execution_count": 72,
   "metadata": {
    "scrolled": true
   },
   "outputs": [],
   "source": [
    "G=networkx.read_gpickle('t2.gpickle')"
   ]
  },
  {
   "cell_type": "markdown",
   "metadata": {},
   "source": [
    "### CREATING A LIST OF STOP WORDS"
   ]
  },
  {
   "cell_type": "code",
   "execution_count": 73,
   "metadata": {},
   "outputs": [],
   "source": [
    "#nltk.download('stopwords')"
   ]
  },
  {
   "cell_type": "code",
   "execution_count": 74,
   "metadata": {
    "scrolled": true
   },
   "outputs": [],
   "source": [
    "stop_words=set(stopwords.words('english'))"
   ]
  },
  {
   "cell_type": "markdown",
   "metadata": {},
   "source": [
    "### DICTIONARY FOR ATTRIBUTES"
   ]
  },
  {
   "cell_type": "code",
   "execution_count": 75,
   "metadata": {},
   "outputs": [],
   "source": [
    "s={'writer':'written_by','based':'has_tags','done by':'has_tags','featured':'starred_actors','feature':'starred_actors','featuring':'starred_actors','features':'starred_actors','appeared':'starred_actors','created':'written_by','write':'written_by','starred_in':'starred_actors','described':'has_tags','about':'has_tags','starred_actor':'starred_actors','written':'written_by','wrote':'written_by','author':'written_by','creator':'written_by','directed':'directed_by','direct':'directed_by','director':'directed_by','starred':'starred_actors','appears':'starred_actors','act':'starred_actors','actor':'starred_actors','release year':'release_year','release':'release_year','actors':'starred_actors','acted':'starred_actors','language':'has_tags','genre':'has_tags','type of':'has_tags','kind of':'has_tags','sort of':'has_tags','words describe':'has_tags','topic is':'has tags','terms are':'has_tags','act':'starred_actors','star':'starred_actors','describe':'has_tags','released':'release_year','good':'has_imdb_rating'}"
   ]
  },
  {
   "cell_type": "markdown",
   "metadata": {},
   "source": [
    "### PROCESSING THE QUERY BELOW"
   ]
  },
  {
   "cell_type": "code",
   "execution_count": 151,
   "metadata": {
    "scrolled": true
   },
   "outputs": [
    {
     "name": "stdout",
     "output_type": "stream",
     "text": [
      "-----------------------------\n",
      "Question:  which movies can be described by teenagers?\n",
      "\n",
      "=========================================\n",
      "case1: <question_word> <attribute> <Name>\n",
      "Ex: who directed the movie Kismet? \n",
      "========================================= \n",
      "\n",
      "Kidulthood\n",
      "Remember the Daze\n",
      "Ken Park\n",
      "Kids\n",
      "-----------------------------\n",
      "Question:  what movies did Temuera Morrison act in   ?\n",
      "\n",
      "=========================================\n",
      "case2: <question_word> <Name> <attribute>\n",
      "Ex: when was Kismet released?\n",
      "========================================= \n",
      "\n",
      "Tracker\n",
      "Once Were Warriors\n",
      "River Queen\n",
      "-----------------------------\n",
      "Question:  Edna May Oliver appears in which movies?\n",
      "\n",
      "=========================================\n",
      "case3: <Name> <attribute> <question_word>\n",
      "Ex: Kismet directed by whom? \n",
      "========================================= \n",
      "\n",
      "\n",
      "A Tale of Two Cities\n",
      "Murder on a Honeymoon\n",
      "The Story of Vernon and Irene Castle\n"
     ]
    }
   ],
   "source": [
    "#LOOP FOR EACH LINE IN QUERRY FILE\n",
    "for i in range(len(str2)):\n",
    "    print('-----------------------------')\n",
    "    print(\"Question: \", str2[i])\n",
    "    f,k5,r,m2,lk=0,0,0,0,0\n",
    "    j4=[]\n",
    "    z=str2[i].split('?')[0].split() #SEPERATING THE QUESTION FROM THE SENTENCE\n",
    "    z1=nltk.pos_tag(z)\n",
    "    j4.append(nltk.pos_tag(nltk.word_tokenize(str2[i].split('?')[0])))\n",
    "    j1=[\"'\",\"'s\",\"'m\",\"n't\",\"!\",\"?\",\",\",\".\",\"'d\",\"'ll\",\"...\",\"'n\"] \n",
    "    q=['which','when','what','who',\"who's\"]\n",
    "    #FOR THE TEST OF CASE 3\n",
    "    if ord(z1[0][0][0]) in range(65,90):\n",
    "            r=1 #FLAG OF CASE 3\n",
    "            print('=========================================')\n",
    "            print('case3: <Name> <attribute> <question_word>')\n",
    "            print('Ex: Kismet directed by whom? ')\n",
    "            print('========================================= \\n')\n",
    "            print()\n",
    "            lk=1\n",
    "    #FOR THE TEST OF CASE 1 AND 2\n",
    "    if lk==0:\n",
    "        for i5 in range(len(z1)):\n",
    "            # FOR CASE 1\n",
    "            if z1[i5][0] in s:\n",
    "                f=1 #FLAG OF CASE 1\n",
    "                print('=========================================')\n",
    "                print('case1: <question_word> <attribute> <Name>')\n",
    "                print('Ex: who directed the movie Kismet? ')\n",
    "                print('========================================= \\n')\n",
    "                break\n",
    "            #FOR CASE 2\n",
    "            if z1[i5][1]=='NNP':\n",
    "                k5=1 #FLAG OF CASE 2\n",
    "                print('=========================================')\n",
    "                print('case2: <question_word> <Name> <attribute>')\n",
    "                print('Ex: when was Kismet released?')\n",
    "                print('========================================= \\n')\n",
    "                break\n",
    "    # CASE 1 BEGINS    \n",
    "    if f==1:\n",
    "        for j1 in range(len(str2[i].split('?')[0].split())):\n",
    "            if str2[i].split('?')[0].split()[j1] in s.keys():\n",
    "                s1=str2[i].split('?')[0].split()[0:j1][0] #CONTAINS INFO ON TYPE OF QUESTION\n",
    "                if str2[i].split('?')[0].split()[j1]!='about':\n",
    "                    s2=str2[i].split('?')[0].split()[j1+1:]# MOVIE NAME IF ABOUT IS NOT PRESENT IN ATTRIBUTE\n",
    "                    m1=0\n",
    "                if str2[i].split('?')[0].split()[j1]=='about':\n",
    "                    s2=str2[i].split('?')[0].split()[j1:]# MOVIE NAME IF ABOUT IS PRESENT IN ATTRIBUTE\n",
    "                    m1=1\n",
    "                    \n",
    "                k=s[str2[i].split('?')[0].split()[j1]]# ATTRIBUTE EXTRACTION\n",
    "                k1=str2[i].split('?')[0].split()[j1]\n",
    "        n=''\n",
    "        bn=0\n",
    "        s22=''\n",
    "        for m in s2:\n",
    "            n=n+m+\" \"\n",
    "        for j2 in range(len(n)):\n",
    "            if ord(n[j2]) in range(65,90):\n",
    "                pos=j2\n",
    "                bn=1\n",
    "                break\n",
    "        if bn==0:\n",
    "            for nb in s2:\n",
    "                if nb not in stop_words:\n",
    "                    s22=s22+nb+\" \"\n",
    "            s2=s22.strip()\n",
    "        if bn==1:\n",
    "            s2=n[pos:].strip()\n",
    "        for l1 in G[s2]:\n",
    "            #FOR MULTIPLE ATTRIBUTE\n",
    "            if len(set(G[s2][l1]['weight']))>1:\n",
    "                for m2 in set(G[s2][l1]['weight']):\n",
    "                    if m2==k: #CHECK OF ATTRIBUTE ASKED WITH ATTRIBUTE PRSENT IN GRAPH\n",
    "                        print(l1)\n",
    "            #FOR SINGLE ATTRIBUTE\n",
    "            if len(set(G[s2][l1]['weight']))==1 and set(G[s2][l1]['weight'])=={k}: #CHECK OF ATTRIBUTE ASKED WITH ATTRIBUTE PRSENT IN GRAPH\n",
    "                    print(l1)\n",
    "    #CASE 1 ENDS \n",
    "    #CASE 2 BEGINS\n",
    "    if k5==1:\n",
    "        s3=''\n",
    "        u=''\n",
    "        j=list(nltk.pos_tag(z))\n",
    "        for i7 in range(len(j)):\n",
    "            #CHECK FOR VARIOUS PATTERNS AND GETTING THE MOVIE NAME IN S3\n",
    "            if j[i7][1]=='NNP' or j[i7][1]=='JJ' or j[i7][1]=='VBG' or j[i7][1]=='FW' or (j[i7][1]=='RB' and j[i7][0] not in s):\n",
    "                s3=s3+j[i7][0]+\" \"\n",
    "            if (j[i7][1]=='DT' and j[i7+1][1]=='NNP') or (j[i7][1]=='PRP' and j[i7+1][1]=='VBP') or (j[i7][1]=='VBP' and j[i7+1][1]=='DT') or (j[i7][1]=='JJR' and j[i7+1][1]=='NNP') or (j[i7][1]=='NNS' and j[i7-1][1]=='NNP') or (j[i7][1]=='VBN'and j[i7][0] not in s) or (j[i7][0] not in s and j[i7][1]=='VB' and j[i7+1][1]=='NNP') or (j[i7][1]=='IN' and j[i7-1][1]=='NNP' and j[i7][0] not in s) or (j[i7][1]=='NNS' and j[i7+1][1]=='NNP') or (j[i7][1]=='VBN' and j[i7+1][1]=='NNP') or (j[i7][1]=='VBZ' and j[i7-1][1]=='NNP' and j[i7][0] not in s) or (j[i7][1]=='NNPS' and j[i7-1][1]=='NNP') or (j[i7][1]=='NNPS' and j[i7+1][1]=='NNP'):\n",
    "                s3=s3+j[i7][0]+\" \"\n",
    "            if (j[i7][1]=='CD' and j[i7+1][1]=='NN') or (j[i7][1]=='NN' and j[i7-1][1]=='CD') or (j[i7][1]=='NN' and j[i7-1][1]=='NNP' and j[i7][0] not in s):\n",
    "                s3=s3+j[i7][0]+\" \"\n",
    "            if(j[i7][1]=='.' and j[i7-1][1]=='NNP') or(j[i7][1]=='NN' and j[i7-1][1]==\".\"):\n",
    "                s3=s3+j[i7][0]+\" \"\n",
    "            if j[i7][0] in s:\n",
    "                h=j[i7][0] #GETTING ATTRIBUTE BY CHECKING THE DICTIONARY\n",
    "\n",
    "        for v in G[s3.strip()]:\n",
    "            #FOR SINGLE ATTRIBUTE\n",
    "            if len(set(G[s3.strip()][v]['weight']))==1:\n",
    "                if set(G[s3.strip()][v]['weight'])=={s[h]}:#CHECK OF ATTRIBUTE ASKED WITH ATTRIBUTE PRSENT IN GRAPH\n",
    "                    print(v)\n",
    "            #FOR MULTIPLE ATTRIBUTE\n",
    "            if len(set(G[s3.strip()][v]['weight']))>1:\n",
    "                for v1 in set(G[s3.strip()][v]['weight']):#CHECK OF ATTRIBUTE ASKED WITH ATTRIBUTE PRSENT IN GRAPH\n",
    "                    if {v1}=={s[h]}:\n",
    "                        print(v)\n",
    "    #CASE 2 ENDS\n",
    "    #CASE 3 BEGINS\n",
    "    if r==1:\n",
    "        p=0              \n",
    "        for i6 in j4:\n",
    "            s3=''\n",
    "            for i1 in range(len(i6)):\n",
    "                if i6[i1][0] in s:\n",
    "                    pos1=i6[i1][0]\n",
    "                if i1<len(i6)-1:\n",
    "                    #CHECKING FOR PATTERNS AND GETTING LAST WORD OF MOVIE\n",
    "                    if i6[i1][1]=='NNP' or (i6[i1][1]=='PRP' and i6[i1+1][1]==',') or (i6[i1][1]=='IN' and i6[i1+1][1]=='VBZ') or(i6[i1][1]=='NN' and i6[i1+1][1]=='VBD') or (i6[i1][1]==\":\" and i6[i1+1][1]=='VBZ') or (i6[i1][1]=='PRP' and i6[i1+1][1]=='VBZ') or (i6[i1][1]=='RB' and i6[i1+1][1]=='VBZ') or (i6[i1][1]=='VB' and i6[i1+1][1]=='VBZ') or (i6[i1][1]=='NNS' and i6[i1+1][1]=='VBZ') or (i6[i1][1]=='.' and i6[i1+1][1]==\"VBZ\") or (i6[i1][1]=='EX' and i6[i1+1][1]=='VBZ') or (i6[i1][1]=='VBP' and i6[i1+1][1]=='VBZ') or (i6[i1][1]==\"NN\" and i6[i1-1][1]==\"NNP\") or (i6[i1][1]==\"NNPS\" and i6[i1+1][1]=='VBZ') or (i6[i1][1]==\"CC\" and i6[i1+1][1]==',') or (i6[i1][1]==\"VBG\" and i6[i1+1][1]==\"VBZ\") or (i6[i1][1]==\":\" and i6[i1+1][1]==',')or (i6[i1][1]=='.' and i6[i1-1][1]=='NNP') or (i6[i1][1]==\"MD\" and i6[i1-1][1]==\"NNP\") or (i6[i1][1]=='DT' and i6[i1+1][1]==',') or (i6[i1][1]=='VB' and i6[i1+1][1]==',') or (i6[i1][1]=='POS' and i6[i1-1][1]=='NNP') or (i6[i1][1]=='VBN' and ord(i6[i1][0][0]) in range(65,90)) or (i6[i1][1]=='RB' and i6[i1+1][1]==',') or (i6[i1][1]=='NNPS' and i6[i1+1][1]==',') or (i6[i1][1]=='.' and i6[i1+1][1]==',') or (i6[i1][1]=='JJ' and i6[i1+1][1]=='VBZ') or (i6[i1][1]=='JJ' and i6[i1+1][1]==',') or (i6[i1][1]==\"CD\" and i6[i1-1][1]==\"NNP\") or (i6[i1][1]=='CD' and i6[i1+1][1]==',') or (i6[i1][1]=='NN' and i6[i1+1][1]=='VBZ') or (i6[i1][1]=='IN' and i6[i1+1][1]==',') or (i6[i1][1]==\"NNPS\" and i6[i1-1][1]=='NNP') or (i6[i1][1]=='NNS' and i6[i1+1][1]==',') or (i6[i1][1]=='NN' and i6[i1+1][1]==','):\n",
    "                        pos=i6[i1][0]\n",
    "                        k=i1\n",
    "            #GETTING MOVIE NAME BY EXTRACTION OF WORDS TILL LAST WORD OF MOVIE\n",
    "            for u in range(k+1):\n",
    "                    if nltk.word_tokenize(str2[i].split('?')[0])[u] not in j1:\n",
    "                        s3=s3+nltk.word_tokenize(str2[i].split('?')[0])[u]+\" \"\n",
    "                    if nltk.word_tokenize(str2[i].split('?')[0])[u] in j1:\n",
    "                        s3=s3.strip()+nltk.word_tokenize(str2[i].split('?')[0])[u]+\" \"\n",
    "            #CHECKING IN THE GRAPH\n",
    "            for i2 in G[s3.strip()]:\n",
    "                #FOR MULTIPLE ATTRIBUTES\n",
    "                if len(set(G[s3.strip()][i2]['weight']))>1:\n",
    "                    for mn in set(G[s3.strip()][i2]['weight']):\n",
    "                        if mn==s[pos1]: #CHECK OF ATTRIBUTE ASKED WITH ATTRIBUTE PRSENT IN GRAPH\n",
    "                            print(i2)\n",
    "                #FOR SINGLE ATTRIBUTE\n",
    "                if len(set(G[s3.strip()][i2]['weight']))==1:\n",
    "                    if set(G[s3.strip()][i2]['weight'])=={s[pos1]}: #CHECK OF ATTRIBUTE ASKED WITH ATTRIBUTE PRSENT IN GRAPH\n",
    "                        print(i2)    "
   ]
  },
  {
   "cell_type": "code",
   "execution_count": null,
   "metadata": {},
   "outputs": [],
   "source": []
  }
 ],
 "metadata": {
  "kernelspec": {
   "display_name": "Python intern2019",
   "language": "python",
   "name": "intern2019"
  },
  "language_info": {
   "codemirror_mode": {
    "name": "ipython",
    "version": 3
   },
   "file_extension": ".py",
   "mimetype": "text/x-python",
   "name": "python",
   "nbconvert_exporter": "python",
   "pygments_lexer": "ipython3",
   "version": "3.7.3"
  }
 },
 "nbformat": 4,
 "nbformat_minor": 2
}
